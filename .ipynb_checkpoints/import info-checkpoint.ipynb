{
 "cells": [
  {
   "cell_type": "code",
   "execution_count": 1,
   "id": "a3bbff4e",
   "metadata": {},
   "outputs": [
    {
     "name": "stdout",
     "output_type": "stream",
     "text": [
      "anaconda prompt pip test\n",
      "2.7.0\n"
     ]
    }
   ],
   "source": [
    "print('window import test')\n",
    "import folium\n",
    "import seaborn\n",
    "import pandas\n",
    "import matplotlib\n",
    "import numpy\n",
    "import tensorflow as tf\n",
    "print(tf.__version__)"
   ]
  },
  {
   "cell_type": "code",
   "execution_count": 2,
   "id": "b5684c2b",
   "metadata": {},
   "outputs": [
    {
     "name": "stdout",
     "output_type": "stream",
     "text": [
      "Python 3.9.7_success\n"
     ]
    }
   ],
   "source": [
    "print('Python 3.9.7_success')"
   ]
  },
  {
   "cell_type": "code",
   "execution_count": 1,
   "id": "1a0a7375",
   "metadata": {},
   "outputs": [
    {
     "name": "stdout",
     "output_type": "stream",
     "text": [
      "mac import test\n",
      "2.4.0-rc0\n"
     ]
    }
   ],
   "source": [
    "print('mac import test')\n",
    "import folium\n",
    "import seaborn\n",
    "import pandas\n",
    "import matplotlib\n",
    "import numpy\n",
    "import sklearn\n",
    "import tensorflow as tf\n",
    "print(tf.__version__)"
   ]
  },
  {
   "cell_type": "code",
   "execution_count": 3,
   "id": "a6c8fae2",
   "metadata": {},
   "outputs": [
    {
     "name": "stdout",
     "output_type": "stream",
     "text": [
      "Python 3.8.6_success\n"
     ]
    }
   ],
   "source": [
    "print('Python 3.8.6_success')"
   ]
  }
 ],
 "metadata": {
  "kernelspec": {
   "display_name": "Python 3 (ipykernel)",
   "language": "python",
   "name": "python3"
  },
  "language_info": {
   "codemirror_mode": {
    "name": "ipython",
    "version": 3
   },
   "file_extension": ".py",
   "mimetype": "text/x-python",
   "name": "python",
   "nbconvert_exporter": "python",
   "pygments_lexer": "ipython3",
   "version": "3.8.6"
  }
 },
 "nbformat": 4,
 "nbformat_minor": 5
}

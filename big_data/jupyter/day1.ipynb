{
 "cells": [
  {
   "cell_type": "code",
   "execution_count": 1,
   "id": "f5ce56fb",
   "metadata": {
    "scrolled": true
   },
   "outputs": [
    {
     "name": "stdout",
     "output_type": "stream",
     "text": [
      "hi\n"
     ]
    }
   ],
   "source": [
    "print('hi')"
   ]
  },
  {
   "cell_type": "code",
   "execution_count": 8,
   "id": "bd1a2579",
   "metadata": {},
   "outputs": [],
   "source": [
    "import numpy as np"
   ]
  },
  {
   "cell_type": "code",
   "execution_count": 10,
   "id": "060672e4",
   "metadata": {},
   "outputs": [
    {
     "data": {
      "text/plain": [
       "array([1, 4, 2, 5])"
      ]
     },
     "execution_count": 10,
     "metadata": {},
     "output_type": "execute_result"
    }
   ],
   "source": [
    "np.array([1,4,2,5])"
   ]
  },
  {
   "cell_type": "code",
   "execution_count": 9,
   "id": "6a7b7fda",
   "metadata": {},
   "outputs": [
    {
     "data": {
      "text/plain": [
       "array([1. , 4. , 2.5, 5. ])"
      ]
     },
     "execution_count": 9,
     "metadata": {},
     "output_type": "execute_result"
    }
   ],
   "source": [
    "np.array([1,4,2.5,5]) # broad casting"
   ]
  },
  {
   "cell_type": "code",
   "execution_count": 11,
   "id": "9a1dcb1b",
   "metadata": {},
   "outputs": [
    {
     "data": {
      "text/plain": [
       "array([1, 4, 2, 5])"
      ]
     },
     "execution_count": 11,
     "metadata": {},
     "output_type": "execute_result"
    }
   ],
   "source": [
    "np.array([1,4,2.5,5],dtype = 'int') # broad casting"
   ]
  },
  {
   "cell_type": "code",
   "execution_count": 12,
   "id": "4d6ed298",
   "metadata": {},
   "outputs": [
    {
     "data": {
      "text/plain": [
       "array(['1', '4', 'a', '5'], dtype='<U11')"
      ]
     },
     "execution_count": 12,
     "metadata": {},
     "output_type": "execute_result"
    }
   ],
   "source": [
    "np.array([1,4,'a',5])"
   ]
  },
  {
   "cell_type": "code",
   "execution_count": 14,
   "id": "a85a54c7",
   "metadata": {},
   "outputs": [
    {
     "data": {
      "text/plain": [
       "array([[1, 4, 2],\n",
       "       [1, 1, 2],\n",
       "       [1, 4, 3]])"
      ]
     },
     "execution_count": 14,
     "metadata": {},
     "output_type": "execute_result"
    }
   ],
   "source": [
    "np.array([[1,4,2],[1,1,2],[1,4,3]])"
   ]
  },
  {
   "cell_type": "code",
   "execution_count": 15,
   "id": "99b09fc1",
   "metadata": {},
   "outputs": [
    {
     "data": {
      "text/plain": [
       "array([0., 0., 0., 0., 0., 0., 0., 0., 0., 0.])"
      ]
     },
     "execution_count": 15,
     "metadata": {},
     "output_type": "execute_result"
    }
   ],
   "source": [
    "np.zeros(10)"
   ]
  },
  {
   "cell_type": "code",
   "execution_count": 17,
   "id": "0b8fd8f6",
   "metadata": {},
   "outputs": [
    {
     "data": {
      "text/plain": [
       "array(['', '', '', '', '', '', '', '', '', ''], dtype='<U1')"
      ]
     },
     "execution_count": 17,
     "metadata": {},
     "output_type": "execute_result"
    }
   ],
   "source": [
    "np.zeros(10,dtype='str')"
   ]
  },
  {
   "cell_type": "code",
   "execution_count": 19,
   "id": "f75a76f2",
   "metadata": {},
   "outputs": [
    {
     "data": {
      "text/plain": [
       "array([[0, 0, 0],\n",
       "       [0, 0, 0]])"
      ]
     },
     "execution_count": 19,
     "metadata": {},
     "output_type": "execute_result"
    }
   ],
   "source": [
    "np.zeros([2,3],dtype = int)"
   ]
  },
  {
   "cell_type": "code",
   "execution_count": 20,
   "id": "9a8af02e",
   "metadata": {},
   "outputs": [
    {
     "data": {
      "text/plain": [
       "array([[3.14, 3.14, 3.14, 3.14, 3.14],\n",
       "       [3.14, 3.14, 3.14, 3.14, 3.14],\n",
       "       [3.14, 3.14, 3.14, 3.14, 3.14]])"
      ]
     },
     "execution_count": 20,
     "metadata": {},
     "output_type": "execute_result"
    }
   ],
   "source": [
    "np.full((3,5),3.14)"
   ]
  },
  {
   "cell_type": "code",
   "execution_count": 21,
   "id": "5fd25728",
   "metadata": {},
   "outputs": [
    {
     "data": {
      "text/plain": [
       "array([ 0,  1,  2,  3,  4,  5,  6,  7,  8,  9, 10, 11, 12, 13, 14, 15, 16,\n",
       "       17, 18, 19])"
      ]
     },
     "execution_count": 21,
     "metadata": {},
     "output_type": "execute_result"
    }
   ],
   "source": [
    "np.arange(0,20)"
   ]
  },
  {
   "cell_type": "code",
   "execution_count": 22,
   "id": "ab53eee9",
   "metadata": {},
   "outputs": [
    {
     "data": {
      "text/plain": [
       "array([ 0,  2,  4,  6,  8, 10, 12, 14, 16, 18])"
      ]
     },
     "execution_count": 22,
     "metadata": {},
     "output_type": "execute_result"
    }
   ],
   "source": [
    "np.arange(0,20,2)"
   ]
  },
  {
   "cell_type": "code",
   "execution_count": 24,
   "id": "3e9e55b1",
   "metadata": {},
   "outputs": [
    {
     "data": {
      "text/plain": [
       "array([20, 18, 16, 14, 12, 10,  8,  6,  4,  2])"
      ]
     },
     "execution_count": 24,
     "metadata": {},
     "output_type": "execute_result"
    }
   ],
   "source": [
    "np.arange(20,0,-2)"
   ]
  },
  {
   "cell_type": "code",
   "execution_count": 25,
   "id": "1265d364",
   "metadata": {},
   "outputs": [
    {
     "data": {
      "text/plain": [
       "array([0.  , 0.25, 0.5 , 0.75, 1.  ])"
      ]
     },
     "execution_count": 25,
     "metadata": {},
     "output_type": "execute_result"
    }
   ],
   "source": [
    "np.linspace(0,1,5)"
   ]
  },
  {
   "cell_type": "code",
   "execution_count": 27,
   "id": "87b087a8",
   "metadata": {},
   "outputs": [
    {
     "data": {
      "text/plain": [
       "array([[0.86925386, 0.03036987, 0.63969069, 0.3789351 ],\n",
       "       [0.95226072, 0.71163556, 0.9924526 , 0.57035102],\n",
       "       [0.71965982, 0.95539465, 0.62624075, 0.51746129]])"
      ]
     },
     "execution_count": 27,
     "metadata": {},
     "output_type": "execute_result"
    }
   ],
   "source": [
    "np.random.random([3,4])"
   ]
  },
  {
   "cell_type": "code",
   "execution_count": 29,
   "id": "c2409f10",
   "metadata": {},
   "outputs": [
    {
     "data": {
      "text/plain": [
       "array([[ -16.28922434,  -29.35013318, -126.75648148,  -73.09899172],\n",
       "       [ 163.27024514,  201.95687675,  -48.64170251,  165.4846954 ],\n",
       "       [ -96.6312681 ,   88.49218422,   96.8676732 ,  -28.91917147]])"
      ]
     },
     "execution_count": 29,
     "metadata": {},
     "output_type": "execute_result"
    }
   ],
   "source": [
    "np.random.normal(0,100,[3,4])"
   ]
  },
  {
   "cell_type": "code",
   "execution_count": 30,
   "id": "23a2eb97",
   "metadata": {},
   "outputs": [
    {
     "data": {
      "text/plain": [
       "array([[ 0.81814552, -0.85794447,  0.47537655, -0.70389724],\n",
       "       [ 1.20927654, -0.54238475, -0.35145989, -0.46232821],\n",
       "       [ 0.03134542,  0.31870996,  0.91963939, -0.14882082]])"
      ]
     },
     "execution_count": 30,
     "metadata": {},
     "output_type": "execute_result"
    }
   ],
   "source": [
    "np.random.normal(0,1,[3,4])"
   ]
  },
  {
   "cell_type": "code",
   "execution_count": 31,
   "id": "cec53524",
   "metadata": {},
   "outputs": [
    {
     "data": {
      "text/plain": [
       "array([2, 3, 4, 3, 1, 3, 1, 7, 8, 3, 2, 2, 2, 7, 6, 3, 2, 5, 1, 4, 0, 3,\n",
       "       5, 2, 6, 0, 0, 9, 7, 2])"
      ]
     },
     "execution_count": 31,
     "metadata": {},
     "output_type": "execute_result"
    }
   ],
   "source": [
    "np.random.randint(0,10,30)"
   ]
  },
  {
   "cell_type": "code",
   "execution_count": 38,
   "id": "b1549323",
   "metadata": {},
   "outputs": [],
   "source": [
    "x = np.arange(1,10)\n",
    "y = np.arange(11,20)"
   ]
  },
  {
   "cell_type": "code",
   "execution_count": 39,
   "id": "a36e2131",
   "metadata": {},
   "outputs": [
    {
     "data": {
      "text/plain": [
       "array([1, 2, 3, 4, 5, 6, 7, 8, 9])"
      ]
     },
     "execution_count": 39,
     "metadata": {},
     "output_type": "execute_result"
    }
   ],
   "source": [
    "x"
   ]
  },
  {
   "cell_type": "code",
   "execution_count": 40,
   "id": "f9192ffc",
   "metadata": {},
   "outputs": [
    {
     "data": {
      "text/plain": [
       "array([11, 12, 13, 14, 15, 16, 17, 18, 19])"
      ]
     },
     "execution_count": 40,
     "metadata": {},
     "output_type": "execute_result"
    }
   ],
   "source": [
    "y"
   ]
  },
  {
   "cell_type": "code",
   "execution_count": 41,
   "id": "65c2153e",
   "metadata": {},
   "outputs": [
    {
     "data": {
      "text/plain": [
       "array([12, 14, 16, 18, 20, 22, 24, 26, 28])"
      ]
     },
     "execution_count": 41,
     "metadata": {},
     "output_type": "execute_result"
    }
   ],
   "source": [
    "x+y\n"
   ]
  },
  {
   "cell_type": "code",
   "execution_count": 45,
   "id": "d74c79de",
   "metadata": {},
   "outputs": [
    {
     "data": {
      "text/plain": [
       "array([ 11,  24,  39,  56,  75,  96, 119, 144, 171])"
      ]
     },
     "execution_count": 45,
     "metadata": {},
     "output_type": "execute_result"
    }
   ],
   "source": [
    "x*y"
   ]
  },
  {
   "cell_type": "code",
   "execution_count": 44,
   "id": "894177e1",
   "metadata": {},
   "outputs": [
    {
     "data": {
      "text/plain": [
       "array([0.09090909, 0.16666667, 0.23076923, 0.28571429, 0.33333333,\n",
       "       0.375     , 0.41176471, 0.44444444, 0.47368421])"
      ]
     },
     "execution_count": 44,
     "metadata": {},
     "output_type": "execute_result"
    }
   ],
   "source": [
    "x/y"
   ]
  },
  {
   "cell_type": "code",
   "execution_count": 47,
   "id": "be872754",
   "metadata": {},
   "outputs": [
    {
     "data": {
      "text/plain": [
       "array([10, 10, 10, 10, 10, 10, 10, 10, 10])"
      ]
     },
     "execution_count": 47,
     "metadata": {},
     "output_type": "execute_result"
    }
   ],
   "source": [
    "np.abs(x-y)"
   ]
  },
  {
   "cell_type": "code",
   "execution_count": 48,
   "id": "6e3a9d70",
   "metadata": {},
   "outputs": [
    {
     "data": {
      "text/plain": [
       "array([  2.,   4.,   8.,  16.,  32.,  64., 128., 256., 512.])"
      ]
     },
     "execution_count": 48,
     "metadata": {},
     "output_type": "execute_result"
    }
   ],
   "source": [
    "np.exp2(x)"
   ]
  },
  {
   "cell_type": "code",
   "execution_count": 50,
   "id": "827b8ddc",
   "metadata": {},
   "outputs": [
    {
     "data": {
      "text/plain": [
       "array([2.71828183e+00, 7.38905610e+00, 2.00855369e+01, 5.45981500e+01,\n",
       "       1.48413159e+02, 4.03428793e+02, 1.09663316e+03, 2.98095799e+03,\n",
       "       8.10308393e+03])"
      ]
     },
     "execution_count": 50,
     "metadata": {},
     "output_type": "execute_result"
    }
   ],
   "source": [
    "np.exp(x)"
   ]
  },
  {
   "cell_type": "code",
   "execution_count": 52,
   "id": "f80bf95c",
   "metadata": {},
   "outputs": [
    {
     "data": {
      "text/plain": [
       "array([         11,         144,        2197,       38416,      759375,\n",
       "          16777216,   410338673, -1864941312,   565150579], dtype=int32)"
      ]
     },
     "execution_count": 52,
     "metadata": {},
     "output_type": "execute_result"
    }
   ],
   "source": [
    "np.power(y,x)"
   ]
  },
  {
   "cell_type": "code",
   "execution_count": 53,
   "id": "d202670b",
   "metadata": {},
   "outputs": [
    {
     "data": {
      "text/plain": [
       "array([0.        , 0.69314718, 1.09861229, 1.38629436, 1.60943791,\n",
       "       1.79175947, 1.94591015, 2.07944154, 2.19722458])"
      ]
     },
     "execution_count": 53,
     "metadata": {},
     "output_type": "execute_result"
    }
   ],
   "source": [
    "np.log(x)"
   ]
  },
  {
   "cell_type": "code",
   "execution_count": 54,
   "id": "e1ff1f72",
   "metadata": {},
   "outputs": [
    {
     "data": {
      "text/plain": [
       "45"
      ]
     },
     "execution_count": 54,
     "metadata": {},
     "output_type": "execute_result"
    }
   ],
   "source": [
    "np.sum(x)"
   ]
  },
  {
   "cell_type": "code",
   "execution_count": 55,
   "id": "5be1c5b3",
   "metadata": {},
   "outputs": [
    {
     "data": {
      "text/plain": [
       "5.0"
      ]
     },
     "execution_count": 55,
     "metadata": {},
     "output_type": "execute_result"
    }
   ],
   "source": [
    "np.mean(x)"
   ]
  },
  {
   "cell_type": "code",
   "execution_count": 56,
   "id": "e10552fc",
   "metadata": {},
   "outputs": [
    {
     "data": {
      "text/plain": [
       "362880"
      ]
     },
     "execution_count": 56,
     "metadata": {},
     "output_type": "execute_result"
    }
   ],
   "source": [
    "np.prod(x)"
   ]
  },
  {
   "cell_type": "code",
   "execution_count": 57,
   "id": "1356d626",
   "metadata": {},
   "outputs": [
    {
     "data": {
      "text/plain": [
       "8"
      ]
     },
     "execution_count": 57,
     "metadata": {},
     "output_type": "execute_result"
    }
   ],
   "source": [
    "np.argmax(x) # 최대값의 인덱스"
   ]
  },
  {
   "cell_type": "code",
   "execution_count": 59,
   "id": "abfdb4a0",
   "metadata": {},
   "outputs": [
    {
     "data": {
      "text/plain": [
       "9"
      ]
     },
     "execution_count": 59,
     "metadata": {},
     "output_type": "execute_result"
    }
   ],
   "source": [
    "x[np.argmax(x)]"
   ]
  },
  {
   "cell_type": "code",
   "execution_count": 64,
   "id": "23681439",
   "metadata": {},
   "outputs": [
    {
     "name": "stdout",
     "output_type": "stream",
     "text": [
      "<class 'pandas.core.series.Series'>\n",
      "a    1\n",
      "b    2\n",
      "c    3\n",
      "dtype: int64\n"
     ]
    }
   ],
   "source": [
    "import pandas as pd\n",
    "dict_data = {'a':1,'b':2,'c':3}\n",
    "sr = pd.Series(dict_data)\n",
    "print(type(sr))\n",
    "print(sr)"
   ]
  },
  {
   "cell_type": "code",
   "execution_count": 67,
   "id": "67819bcc",
   "metadata": {},
   "outputs": [
    {
     "name": "stdout",
     "output_type": "stream",
     "text": [
      "0    2019-01-02\n",
      "1          3.14\n",
      "2           abc\n",
      "3           100\n",
      "4          True\n",
      "dtype: object\n"
     ]
    },
    {
     "data": {
      "text/plain": [
       "RangeIndex(start=0, stop=5, step=1)"
      ]
     },
     "execution_count": 67,
     "metadata": {},
     "output_type": "execute_result"
    }
   ],
   "source": [
    "list_data = ['2019-01-02',3.14,'abc',100,True]\n",
    "sr = pd.Series(list_data)\n",
    "print(sr)\n",
    "sr[0]\n"
   ]
  },
  {
   "cell_type": "code",
   "execution_count": 69,
   "id": "d452f592",
   "metadata": {},
   "outputs": [
    {
     "data": {
      "text/plain": [
       "pandas.core.series.Series"
      ]
     },
     "execution_count": 69,
     "metadata": {},
     "output_type": "execute_result"
    }
   ],
   "source": [
    "type(sr)"
   ]
  },
  {
   "cell_type": "code",
   "execution_count": 71,
   "id": "619ad3fb",
   "metadata": {},
   "outputs": [],
   "source": [
    "data = ('민수','2017-04-08','여',True)\n",
    "sr = pd.Series(data,index = ['이름','생년월일','성별','학생여부'])"
   ]
  },
  {
   "cell_type": "code",
   "execution_count": 72,
   "id": "8b7286e9",
   "metadata": {},
   "outputs": [
    {
     "name": "stdout",
     "output_type": "stream",
     "text": [
      "이름              민수\n",
      "생년월일    2017-04-08\n",
      "성별               여\n",
      "학생여부          True\n",
      "dtype: object\n"
     ]
    }
   ],
   "source": [
    "print(sr) "
   ]
  },
  {
   "cell_type": "code",
   "execution_count": 74,
   "id": "6fcec871",
   "metadata": {},
   "outputs": [
    {
     "name": "stdout",
     "output_type": "stream",
     "text": [
      "민수\n"
     ]
    }
   ],
   "source": [
    "print(sr['이름'])"
   ]
  },
  {
   "cell_type": "code",
   "execution_count": 79,
   "id": "e385998f",
   "metadata": {},
   "outputs": [
    {
     "name": "stdout",
     "output_type": "stream",
     "text": [
      "생년월일    2017-04-08\n",
      "성별               여\n",
      "dtype: object\n"
     ]
    },
    {
     "data": {
      "text/plain": [
       "학생여부    True\n",
       "dtype: object"
      ]
     },
     "execution_count": 79,
     "metadata": {},
     "output_type": "execute_result"
    }
   ],
   "source": [
    "print(sr[[1,2]])\n",
    "sr[3:5]"
   ]
  },
  {
   "cell_type": "code",
   "execution_count": 85,
   "id": "34039655",
   "metadata": {},
   "outputs": [
    {
     "data": {
      "text/plain": [
       "성별    여\n",
       "dtype: object"
      ]
     },
     "execution_count": 85,
     "metadata": {},
     "output_type": "execute_result"
    }
   ],
   "source": [
    "sr[2:3]"
   ]
  },
  {
   "cell_type": "code",
   "execution_count": 87,
   "id": "d145782b",
   "metadata": {},
   "outputs": [
    {
     "data": {
      "text/plain": [
       "성별         여\n",
       "학생여부    True\n",
       "dtype: object"
      ]
     },
     "execution_count": 87,
     "metadata": {},
     "output_type": "execute_result"
    }
   ],
   "source": [
    "sr[[2,3]]"
   ]
  },
  {
   "cell_type": "code",
   "execution_count": 78,
   "id": "11a8c8cb",
   "metadata": {},
   "outputs": [
    {
     "name": "stdout",
     "output_type": "stream",
     "text": [
      "생년월일    2017-04-08\n",
      "성별               여\n",
      "dtype: object\n"
     ]
    }
   ],
   "source": [
    "print(sr[['생년월일','성별']])"
   ]
  },
  {
   "cell_type": "code",
   "execution_count": 92,
   "id": "79b2f1ca",
   "metadata": {},
   "outputs": [
    {
     "data": {
      "text/plain": [
       "이름              민수\n",
       "생년월일    2017-04-08\n",
       "성별               여\n",
       "학생여부          True\n",
       "dtype: object"
      ]
     },
     "execution_count": 92,
     "metadata": {},
     "output_type": "execute_result"
    }
   ],
   "source": [
    "sr[:]"
   ]
  },
  {
   "cell_type": "code",
   "execution_count": 102,
   "id": "8ce841a4",
   "metadata": {},
   "outputs": [
    {
     "name": "stdout",
     "output_type": "stream",
     "text": [
      "<class 'pandas.core.frame.DataFrame'>\n",
      "   A    b\n",
      "A  1  NaN\n",
      "B  2  NaN\n",
      "C  3  NaN\n",
      "Index(['A', 'B', 'C'], dtype='object')\n",
      "Index(['A', 'b'], dtype='object')\n"
     ]
    }
   ],
   "source": [
    "dict_data = {'A':[1,2,3],'B':[4,5,6]} # data column\n",
    "df = pd.DataFrame(dict_data,index = ['A','B','C'],columns = ['A','b'])\n",
    "print(type(df))\n",
    "print(df)\n",
    "print(df.index)\n",
    "print(df.columns)"
   ]
  },
  {
   "cell_type": "code",
   "execution_count": 103,
   "id": "eb2ff4bd",
   "metadata": {},
   "outputs": [
    {
     "name": "stdout",
     "output_type": "stream",
     "text": [
      "    나이 성별   학교\n",
      "준서  15  남  덕영중\n",
      "예은  17  여  수리중\n",
      "Index(['준서', '예은'], dtype='object')\n",
      "Index(['나이', '성별', '학교'], dtype='object')\n",
      "    나이 gender school\n",
      "준서  15      남    덕영중\n",
      "예은  17      여    수리중\n",
      "    나이 gender school\n",
      "준서  15      남    덕영중\n",
      "예은  17      여    수리중\n"
     ]
    }
   ],
   "source": [
    "import pandas as pd\n",
    "df = pd.DataFrame([[15,'남','덕영중'],[17,'여','수리중']]\n",
    "                  ,index=['준서','예은']\n",
    "                  ,columns=['나이','성별','학교'])\n",
    "print(df)\n",
    "print(df.index)\n",
    "print(df.columns)\n",
    "df.rename(columns={'연령':'age','성별':'gender','학교':'school'},inplace=True)\n",
    "# inplace True 경우, df에 바로 적용된다.\n",
    "print(df)\n",
    "df.rename(columns={'age':'나이','성별':'gender','학교':'school'},inplace=False)\n",
    "# inplace False 경우, 변수에 할당하지 않으면 print만 된다.\n",
    "print(df)"
   ]
  },
  {
   "cell_type": "code",
   "execution_count": null,
   "id": "8f94bd19",
   "metadata": {},
   "outputs": [],
   "source": [
    "exam_data = {}\n",
    "exam_data['수학'] = [90,80,70]\n",
    "exam_data['영어'] = [98,85,95]\n",
    "exam_data['음악'] = [85,95,100]\n",
    "exam_data['체육'] = [100,90,90]\n",
    "df = pd.DataFrame(exam_data,index=['서준','우현','인아'])\n",
    "df2 = df.copy()\n",
    "df2.drop('우현',axis=0,inplace=True)\n",
    "df2\n",
    "df3 = df.copy()\n",
    "df3.drop(['우현','인아']) # defalt inplace false 확인후 true설정\n",
    "df3.drop(['우현','인아'],inplace=True) # drop axis : default = 0\n",
    "df3\n",
    "df3.drop(['수학'],axis=0)\n",
    "df3.drop(['수학'],axis=1) # axis=1 : drop column"
   ]
  },
  {
   "cell_type": "code",
   "execution_count": null,
   "id": "d1afa0cd",
   "metadata": {},
   "outputs": [],
   "source": [
    "exam_data = {}\n",
    "exam_data['수학'] = [90,80,70]\n",
    "exam_data['영어'] = [98,85,95]\n",
    "exam_data['음악'] = [85,95,100]\n",
    "exam_data['체육'] = [100,90,90]\n",
    "df = pd.DataFrame(exam_data,index=['서준','우현','인아'])\n",
    "label1 = df.loc['서준']\n",
    "position1 = df.iloc[0]\n",
    "print(label1)\n",
    "print(position1)\n",
    "\n",
    "label2 = df.loc[['서준','우현']]\n",
    "print(label2)\n",
    "position2 = df.iloc[[0,1]] # 인덱스 컬럼 위치 고려\n",
    "print(position2)\n",
    "\n",
    "label3 = df.loc['서준':'우현']\n",
    "print(label3)\n",
    "position3 = df.iloc[0:1]\n",
    "print(position3)"
   ]
  },
  {
   "cell_type": "code",
   "execution_count": null,
   "id": "aae79c79",
   "metadata": {},
   "outputs": [],
   "source": [
    "exam_data = {}\n",
    "exam_data['이름'] = ['서준','우현','인아']\n",
    "exam_data['수학'] = [90,80,70]\n",
    "exam_data['영어'] = [98,85,95]\n",
    "exam_data['음악'] = [85,95,100]\n",
    "exam_data['체육'] = [100,90,90]\n",
    "df = pd.DataFrame(exam_data)\n",
    "print(df)\n",
    "math1 = df['수학']\n",
    "print(math1)\n",
    "type(math1)\n",
    "\n",
    "eng1 = df.영어\n",
    "print(eng1)\n",
    "type(eng1)\n",
    "type(df)\n",
    "\n",
    "df.iloc[::2]\n",
    "df.iloc[0:3:2]\n",
    "df.iloc[::-1]"
   ]
  },
  {
   "cell_type": "code",
   "execution_count": 105,
   "id": "d51fcb68",
   "metadata": {},
   "outputs": [
    {
     "data": {
      "text/html": [
       "<div>\n",
       "<style scoped>\n",
       "    .dataframe tbody tr th:only-of-type {\n",
       "        vertical-align: middle;\n",
       "    }\n",
       "\n",
       "    .dataframe tbody tr th {\n",
       "        vertical-align: top;\n",
       "    }\n",
       "\n",
       "    .dataframe thead th {\n",
       "        text-align: right;\n",
       "    }\n",
       "</style>\n",
       "<table border=\"1\" class=\"dataframe\">\n",
       "  <thead>\n",
       "    <tr style=\"text-align: right;\">\n",
       "      <th></th>\n",
       "      <th>수학</th>\n",
       "      <th>영어</th>\n",
       "      <th>음악</th>\n",
       "      <th>체육</th>\n",
       "    </tr>\n",
       "    <tr>\n",
       "      <th>이름</th>\n",
       "      <th></th>\n",
       "      <th></th>\n",
       "      <th></th>\n",
       "      <th></th>\n",
       "    </tr>\n",
       "  </thead>\n",
       "  <tbody>\n",
       "    <tr>\n",
       "      <th>서준</th>\n",
       "      <td>90</td>\n",
       "      <td>98</td>\n",
       "      <td>85</td>\n",
       "      <td>100</td>\n",
       "    </tr>\n",
       "    <tr>\n",
       "      <th>우현</th>\n",
       "      <td>80</td>\n",
       "      <td>85</td>\n",
       "      <td>95</td>\n",
       "      <td>90</td>\n",
       "    </tr>\n",
       "    <tr>\n",
       "      <th>인아</th>\n",
       "      <td>70</td>\n",
       "      <td>95</td>\n",
       "      <td>100</td>\n",
       "      <td>90</td>\n",
       "    </tr>\n",
       "  </tbody>\n",
       "</table>\n",
       "</div>"
      ],
      "text/plain": [
       "    수학  영어   음악   체육\n",
       "이름                  \n",
       "서준  90  98   85  100\n",
       "우현  80  85   95   90\n",
       "인아  70  95  100   90"
      ]
     },
     "execution_count": 105,
     "metadata": {},
     "output_type": "execute_result"
    }
   ],
   "source": [
    "exam_data = {}\n",
    "exam_data['이름'] = ['서준','우현','인아']\n",
    "exam_data['수학'] = [90,80,70]\n",
    "exam_data['영어'] = [98,85,95]\n",
    "exam_data['음악'] = [85,95,100]\n",
    "exam_data['체육'] = [100,90,90]\n",
    "df = pd.DataFrame(exam_data)\n",
    "df\n",
    "df.set_index('이름',inplace=True)\n",
    "df.loc['서준',['음악']] # index column 순\n",
    "df.iloc[0,[1]]\n",
    "df.loc['서준','음악':'체육']\n",
    "df.iloc[0,2:]\n",
    "df.iloc[0:2,0:2]\n",
    "df.iloc[:,:]\n"
   ]
  },
  {
   "cell_type": "code",
   "execution_count": 107,
   "id": "78674486",
   "metadata": {},
   "outputs": [
    {
     "data": {
      "text/html": [
       "<div>\n",
       "<style scoped>\n",
       "    .dataframe tbody tr th:only-of-type {\n",
       "        vertical-align: middle;\n",
       "    }\n",
       "\n",
       "    .dataframe tbody tr th {\n",
       "        vertical-align: top;\n",
       "    }\n",
       "\n",
       "    .dataframe thead th {\n",
       "        text-align: right;\n",
       "    }\n",
       "</style>\n",
       "<table border=\"1\" class=\"dataframe\">\n",
       "  <thead>\n",
       "    <tr style=\"text-align: right;\">\n",
       "      <th></th>\n",
       "      <th>이름</th>\n",
       "      <th>수학</th>\n",
       "      <th>영어</th>\n",
       "      <th>음악</th>\n",
       "      <th>체육</th>\n",
       "      <th>국어</th>\n",
       "    </tr>\n",
       "  </thead>\n",
       "  <tbody>\n",
       "    <tr>\n",
       "      <th>0</th>\n",
       "      <td>서준</td>\n",
       "      <td>90</td>\n",
       "      <td>98</td>\n",
       "      <td>85</td>\n",
       "      <td>100</td>\n",
       "      <td>80</td>\n",
       "    </tr>\n",
       "    <tr>\n",
       "      <th>1</th>\n",
       "      <td>우현</td>\n",
       "      <td>80</td>\n",
       "      <td>85</td>\n",
       "      <td>95</td>\n",
       "      <td>90</td>\n",
       "      <td>80</td>\n",
       "    </tr>\n",
       "    <tr>\n",
       "      <th>2</th>\n",
       "      <td>인아</td>\n",
       "      <td>70</td>\n",
       "      <td>95</td>\n",
       "      <td>100</td>\n",
       "      <td>90</td>\n",
       "      <td>80</td>\n",
       "    </tr>\n",
       "  </tbody>\n",
       "</table>\n",
       "</div>"
      ],
      "text/plain": [
       "   이름  수학  영어   음악   체육  국어\n",
       "0  서준  90  98   85  100  80\n",
       "1  우현  80  85   95   90  80\n",
       "2  인아  70  95  100   90  80"
      ]
     },
     "execution_count": 107,
     "metadata": {},
     "output_type": "execute_result"
    }
   ],
   "source": [
    "exam_data = {}\n",
    "exam_data['이름'] = ['서준','우현','인아']\n",
    "exam_data['수학'] = [90,80,70]\n",
    "exam_data['영어'] = [98,85,95]\n",
    "exam_data['음악'] = [85,95,100]\n",
    "exam_data['체육'] = [100,90,90]\n",
    "df = pd.DataFrame(exam_data)\n",
    "df['국어'] = 80\n",
    "df"
   ]
  },
  {
   "cell_type": "code",
   "execution_count": 1,
   "id": "13b1b550",
   "metadata": {},
   "outputs": [
    {
     "name": "stdout",
     "output_type": "stream",
     "text": [
      "    age     fare\n",
      "0  22.0   7.2500\n",
      "1  38.0  71.2833\n",
      "2  26.0   7.9250\n",
      "3  35.0  53.1000\n",
      "4  35.0   8.0500\n",
      "<class 'pandas.core.frame.DataFrame'>\n",
      "<class 'pandas.core.frame.DataFrame'>\n",
      "RangeIndex: 891 entries, 0 to 890\n",
      "Data columns (total 15 columns):\n",
      " #   Column       Non-Null Count  Dtype   \n",
      "---  ------       --------------  -----   \n",
      " 0   survived     891 non-null    int64   \n",
      " 1   pclass       891 non-null    int64   \n",
      " 2   sex          891 non-null    object  \n",
      " 3   age          714 non-null    float64 \n",
      " 4   sibsp        891 non-null    int64   \n",
      " 5   parch        891 non-null    int64   \n",
      " 6   fare         891 non-null    float64 \n",
      " 7   embarked     889 non-null    object  \n",
      " 8   class        891 non-null    category\n",
      " 9   who          891 non-null    object  \n",
      " 10  adult_male   891 non-null    bool    \n",
      " 11  deck         203 non-null    category\n",
      " 12  embark_town  889 non-null    object  \n",
      " 13  alive        891 non-null    object  \n",
      " 14  alone        891 non-null    bool    \n",
      "dtypes: bool(2), category(2), float64(2), int64(4), object(5)\n",
      "memory usage: 80.7+ KB\n"
     ]
    },
    {
     "data": {
      "text/plain": [
       "<pandas.plotting._core.PlotAccessor object at 0x00000281A9E85A60>"
      ]
     },
     "execution_count": 1,
     "metadata": {},
     "output_type": "execute_result"
    }
   ],
   "source": [
    "import pandas as pd\n",
    "import seaborn as sns\n",
    "titanic = sns.load_dataset('titanic')\n",
    "df = titanic.loc[:,['age','fare']]\n",
    "print(df.head())\n",
    "print(type(df))\n",
    "df\n",
    "df + 1 # 프린팅만되고, int형만 연산\n",
    "\n",
    "df.tail()\n",
    "addition = df + 10\n",
    "subtraction = addition - df # 데이터 프레임과의 연산\n",
    "subtraction\n",
    "titanic.shape\n",
    "titanic.head()\n",
    "titanic.info() # 컬럼명,데이터갯수,데이터타입\n",
    "titanic.describe() # 전체데이터의 기초 통계\n",
    "titanic.count() # info에 포함된 정보\n",
    "titanic['sex'].value_counts() # 해당컬럼의 값분포\n",
    "titanic['fare'].mean() # median,max,min,std,corr -> describe 에 포함된 정보\n",
    "titanic['fare'].plot"
   ]
  },
  {
   "cell_type": "code",
   "execution_count": 2,
   "id": "eba4d98b",
   "metadata": {},
   "outputs": [
    {
     "data": {
      "text/plain": [
       "<pandas.plotting._core.PlotAccessor object at 0x00000281A9E85A60>"
      ]
     },
     "execution_count": 2,
     "metadata": {},
     "output_type": "execute_result"
    }
   ],
   "source": [
    "titanic['fare'].plot"
   ]
  },
  {
   "cell_type": "code",
   "execution_count": null,
   "id": "db2b7ce7",
   "metadata": {},
   "outputs": [],
   "source": []
  }
 ],
 "metadata": {
  "kernelspec": {
   "display_name": "Python 3 (ipykernel)",
   "language": "python",
   "name": "python3"
  },
  "language_info": {
   "codemirror_mode": {
    "name": "ipython",
    "version": 3
   },
   "file_extension": ".py",
   "mimetype": "text/x-python",
   "name": "python",
   "nbconvert_exporter": "python",
   "pygments_lexer": "ipython3",
   "version": "3.9.7"
  }
 },
 "nbformat": 4,
 "nbformat_minor": 5
}

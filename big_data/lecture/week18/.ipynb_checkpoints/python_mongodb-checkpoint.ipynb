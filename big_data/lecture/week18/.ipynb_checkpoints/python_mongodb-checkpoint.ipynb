{
 "cells": [
  {
   "cell_type": "markdown",
   "id": "527a5582",
   "metadata": {},
   "source": [
    "# Read and Write example"
   ]
  },
  {
   "cell_type": "code",
   "execution_count": 22,
   "id": "ca6c5f7a",
   "metadata": {},
   "outputs": [],
   "source": [
    "from pymongo import MongoClient\n",
    "import pandas as pd\n"
   ]
  },
  {
   "cell_type": "code",
   "execution_count": 19,
   "id": "e5a3acb0",
   "metadata": {},
   "outputs": [],
   "source": [
    "my_client = MongoClient('mongodb://localhost:27017')"
   ]
  },
  {
   "cell_type": "code",
   "execution_count": 20,
   "id": "aa534cde",
   "metadata": {},
   "outputs": [
    {
     "name": "stdout",
     "output_type": "stream",
     "text": [
      "['admin', 'config', 'final_project', 'local', 'test']\n"
     ]
    }
   ],
   "source": [
    "print(my_client.list_database_names())"
   ]
  },
  {
   "cell_type": "code",
   "execution_count": 8,
   "id": "543dc7ab",
   "metadata": {},
   "outputs": [],
   "source": [
    "mydb = my_client['test']\n",
    "mycol = mydb['hi']"
   ]
  },
  {
   "cell_type": "code",
   "execution_count": 9,
   "id": "c9d5737b",
   "metadata": {},
   "outputs": [],
   "source": [
    "x = mycol.insert_one({'name':'SOM','address':'busan'})"
   ]
  },
  {
   "cell_type": "code",
   "execution_count": 10,
   "id": "5b6dd357",
   "metadata": {},
   "outputs": [
    {
     "data": {
      "text/plain": [
       "ObjectId('62859689f7a0e26081c3fb3e')"
      ]
     },
     "execution_count": 10,
     "metadata": {},
     "output_type": "execute_result"
    }
   ],
   "source": [
    "x.inserted_id"
   ]
  },
  {
   "cell_type": "markdown",
   "id": "2ca6dfcb",
   "metadata": {},
   "source": [
    "# craw"
   ]
  },
  {
   "cell_type": "code",
   "execution_count": 46,
   "id": "036bc53a",
   "metadata": {},
   "outputs": [],
   "source": [
    "import requests\n",
    "import bs4\n",
    "from datetime import datetime,timedelta\n",
    "\n",
    "company = '카카오'\n",
    "\n",
    "date_list = []\n",
    "title_list = []\n",
    "info_list = []\n",
    "url_list = []\n",
    "\n",
    "if company == '카카오':\n",
    "    code = '035720' # kakao\n",
    "else:\n",
    "    code = '035420' # naver\n",
    "page = 1\n",
    "\n",
    "headers = {\n",
    "    'User-Agent': 'Mozilla/5.0 (Windows NT 10.0; Win64; x64) AppleWebKit/537.36 (KHTML, like Gecko) Chrome/101.0.4951.64 Safari/537.36 Edg/101.0.1210.32'}\n",
    "\n",
    "url = f'https://finance.naver.com/item/news_news.naver?code={code}&page={page}&sm=title_entity_id.basic&clusterId='\n",
    "res = requests.get(url, headers=headers)\n",
    "bs = bs4.BeautifulSoup(res.text, 'html.parser')\n",
    "\n",
    "while datetime.strftime(datetime.now().date(), '%Y-%m-%d') not in date_list:\n",
    "    url = f'https://finance.naver.com/item/news_news.naver?code={code}&page={page}&sm=title_entity_id.basic&clusterId='\n",
    "    res = requests.get(url, headers=headers)\n",
    "    bs = bs4.BeautifulSoup(res.text, 'html.parser')\n",
    "\n",
    "    date_list.extend([i.text.split()[0].replace('.', '-') for i in bs.find_all('td', {'class': 'date'})])\n",
    "    title_list.extend([i.text.replace('\\n', '') for i in bs.find_all('td', {'class': 'title'})])\n",
    "    info_list.extend([i.text for i in bs.find_all('td', {'class': 'info'})])\n",
    "    url_list.extend(\n",
    "        ['https://finance.naver.com' + i.find('a')['href'] for i in bs.find_all('td', {'class': 'title'})])\n",
    "\n",
    "    page += 1\n"
   ]
  },
  {
   "cell_type": "code",
   "execution_count": 47,
   "id": "bfd09112",
   "metadata": {
    "scrolled": true
   },
   "outputs": [
    {
     "data": {
      "text/plain": [
       "['https://finance.naver.com/item/news_read.naver?article_id=0000026649&office_id=243&code=035720&page=1&sm=title_entity_id.basic',\n",
       " 'https://finance.naver.com/item/news_read.naver?article_id=0005220450&office_id=018&code=035720&page=1&sm=title_entity_id.basic',\n",
       " 'https://finance.naver.com/item/news_read.naver?article_id=0004838872&office_id=014&code=035720&page=1&sm=title_entity_id.basic',\n",
       " 'https://finance.naver.com/item/news_read.naver?article_id=0004747980&office_id=008&code=035720&page=1&sm=title_entity_id.basic',\n",
       " 'https://finance.naver.com/item/news_read.naver?article_id=0000814770&office_id=366&code=035720&page=1&sm=title_entity_id.basic',\n",
       " 'https://finance.naver.com/item/news_read.naver?article_id=0004700851&office_id=015&code=035720&page=1&sm=title_entity_id.basic',\n",
       " 'https://finance.naver.com/item/news_read.naver?article_id=0001992659&office_id=016&code=035720&page=1&sm=title_entity_id.basic',\n",
       " 'https://finance.naver.com/item/news_read.naver?article_id=0000814944&office_id=366&code=035720&page=1&sm=title_entity_id.basic',\n",
       " 'https://finance.naver.com/item/news_read.naver?article_id=0004701040&office_id=015&code=035720&page=1&sm=title_entity_id.basic',\n",
       " 'https://finance.naver.com/item/news_read.naver?article_id=0004701030&office_id=015&code=035720&page=1&sm=title_entity_id.basic',\n",
       " 'https://finance.naver.com/item/news_read.naver?article_id=0005219976&office_id=018&code=035720&page=1&sm=title_entity_id.basic',\n",
       " 'https://finance.naver.com/item/news_read.naver?article_id=0005091173&office_id=277&code=035720&page=1&sm=title_entity_id.basic',\n",
       " 'https://finance.naver.com/item/news_read.naver?article_id=0004700902&office_id=015&code=035720&page=1&sm=title_entity_id.basic',\n",
       " 'https://finance.naver.com/item/news_read.naver?article_id=0004055514&office_id=011&code=035720&page=1&sm=title_entity_id.basic',\n",
       " 'https://finance.naver.com/item/news_read.naver?article_id=0005219918&office_id=018&code=035720&page=1&sm=title_entity_id.basic',\n",
       " 'https://finance.naver.com/item/news_read.naver?article_id=0000026619&office_id=243&code=035720&page=1&sm=title_entity_id.basic',\n",
       " 'https://finance.naver.com/item/news_read.naver?article_id=0004965959&office_id=009&code=035720&page=1&sm=title_entity_id.basic',\n",
       " 'https://finance.naver.com/item/news_read.naver?article_id=0004747964&office_id=008&code=035720&page=1&sm=title_entity_id.basic',\n",
       " 'https://finance.naver.com/item/news_read.naver?article_id=0005091069&office_id=277&code=035720&page=1&sm=title_entity_id.basic']"
      ]
     },
     "execution_count": 47,
     "metadata": {},
     "output_type": "execute_result"
    }
   ],
   "source": [
    "url_list"
   ]
  },
  {
   "cell_type": "code",
   "execution_count": 48,
   "id": "c2c27e5c",
   "metadata": {},
   "outputs": [],
   "source": [
    "mydb = my_client['final_project']\n",
    "mycol = mydb['article_url']"
   ]
  },
  {
   "cell_type": "code",
   "execution_count": 49,
   "id": "fb0f960a",
   "metadata": {},
   "outputs": [],
   "source": [
    "df = pd.DataFrame([date_list,title_list,url_list,info_list]).transpose()\n",
    "df.rename({0:'date',1:'title',2:'url',3:'info'},axis=1,inplace=True)"
   ]
  },
  {
   "cell_type": "code",
   "execution_count": 50,
   "id": "c14d551c",
   "metadata": {},
   "outputs": [
    {
     "data": {
      "text/plain": [
       "{'date': {0: '2022-05-19',\n",
       "  1: '2022-05-19',\n",
       "  2: '2022-05-19',\n",
       "  3: '2022-05-19',\n",
       "  4: '2022-05-19',\n",
       "  5: '2022-05-19',\n",
       "  6: '2022-05-19',\n",
       "  7: '2022-05-19',\n",
       "  8: '2022-05-19',\n",
       "  9: '2022-05-19',\n",
       "  10: '2022-05-19',\n",
       "  11: '2022-05-19',\n",
       "  12: '2022-05-19',\n",
       "  13: '2022-05-19',\n",
       "  14: '2022-05-19',\n",
       "  15: '2022-05-19',\n",
       "  16: '2022-05-19',\n",
       "  17: '2022-05-19',\n",
       "  18: '2022-05-19'},\n",
       " 'title': {0: '“앱 삭제” 구글 압박에…카카오, 웹툰 사용료 인상',\n",
       "  1: '네이버·카카오 나란히 52주 최저가…동반 급락',\n",
       "  2: '나스닥 급락에...네이버·카카오, 또 신저가 경신',\n",
       "  3: \"美 나스닥 급락에 네이버·카카오 '동반 신저가'…3% 넘게 '추락'\",\n",
       "  4: '[특징주] 네이버·카카오, 美 나스닥 급락에 ‘휘청’…장 초반 동반 ...',\n",
       "  5: '나스닥 폭락…카카오·네이버 52주 최저가로 추락',\n",
       "  6: '[특징주] 네이버·카카오, 장중 52주 신저가 동반 경신',\n",
       "  7: '네이버·카카오 ‘빅테크’, 간편결제 수수료율 공시 추진',\n",
       "  8: '\"1년에 두 번씩\" 카카오·네이버페이도 수수료율 공시한다',\n",
       "  9: '네이버·카카오 동반 추락…52주 최저가 경신',\n",
       "  10: '카카오엔터, ‘타파스-래디쉬’ 결합해 북미 시장 1위 노린다',\n",
       "  11: '카카오 종속사 래디쉬 미디어, 타파스 미디어 흡수합병',\n",
       "  12: '카카오엔터 \"래디쉬, 타파스 흡수합병\" [주목 e공시]',\n",
       "  13: '카카오 북미 웹툰·웹소설 1등 노린다…타파스·래디쉬 합병',\n",
       "  14: '카카오엔터 \"래디쉬 미디어, 타파스 미디어 흡수합병\"',\n",
       "  15: '네이버·카카오 동반 신저가, 시총 1조원씩 증발 [증시이슈]',\n",
       "  16: '\"30억 요청했는데 100억 냈다\"…카카오 김범수 \\'통큰 결단\\', 사재...',\n",
       "  17: '\"30억 요청하니 사재 100억을\"..카카오 김범수, 중증장애인 지원',\n",
       "  18: \"[특징주]'성장주 투심 냉각'에 체면 구긴 네이버·카카오…52주 신저가\"},\n",
       " 'url': {0: 'https://finance.naver.com/item/news_read.naver?article_id=0000026649&office_id=243&code=035720&page=1&sm=title_entity_id.basic',\n",
       "  1: 'https://finance.naver.com/item/news_read.naver?article_id=0005220450&office_id=018&code=035720&page=1&sm=title_entity_id.basic',\n",
       "  2: 'https://finance.naver.com/item/news_read.naver?article_id=0004838872&office_id=014&code=035720&page=1&sm=title_entity_id.basic',\n",
       "  3: 'https://finance.naver.com/item/news_read.naver?article_id=0004747980&office_id=008&code=035720&page=1&sm=title_entity_id.basic',\n",
       "  4: 'https://finance.naver.com/item/news_read.naver?article_id=0000814770&office_id=366&code=035720&page=1&sm=title_entity_id.basic',\n",
       "  5: 'https://finance.naver.com/item/news_read.naver?article_id=0004700851&office_id=015&code=035720&page=1&sm=title_entity_id.basic',\n",
       "  6: 'https://finance.naver.com/item/news_read.naver?article_id=0001992659&office_id=016&code=035720&page=1&sm=title_entity_id.basic',\n",
       "  7: 'https://finance.naver.com/item/news_read.naver?article_id=0000814944&office_id=366&code=035720&page=1&sm=title_entity_id.basic',\n",
       "  8: 'https://finance.naver.com/item/news_read.naver?article_id=0004701040&office_id=015&code=035720&page=1&sm=title_entity_id.basic',\n",
       "  9: 'https://finance.naver.com/item/news_read.naver?article_id=0004701030&office_id=015&code=035720&page=1&sm=title_entity_id.basic',\n",
       "  10: 'https://finance.naver.com/item/news_read.naver?article_id=0005219976&office_id=018&code=035720&page=1&sm=title_entity_id.basic',\n",
       "  11: 'https://finance.naver.com/item/news_read.naver?article_id=0005091173&office_id=277&code=035720&page=1&sm=title_entity_id.basic',\n",
       "  12: 'https://finance.naver.com/item/news_read.naver?article_id=0004700902&office_id=015&code=035720&page=1&sm=title_entity_id.basic',\n",
       "  13: 'https://finance.naver.com/item/news_read.naver?article_id=0004055514&office_id=011&code=035720&page=1&sm=title_entity_id.basic',\n",
       "  14: 'https://finance.naver.com/item/news_read.naver?article_id=0005219918&office_id=018&code=035720&page=1&sm=title_entity_id.basic',\n",
       "  15: 'https://finance.naver.com/item/news_read.naver?article_id=0000026619&office_id=243&code=035720&page=1&sm=title_entity_id.basic',\n",
       "  16: 'https://finance.naver.com/item/news_read.naver?article_id=0004965959&office_id=009&code=035720&page=1&sm=title_entity_id.basic',\n",
       "  17: 'https://finance.naver.com/item/news_read.naver?article_id=0004747964&office_id=008&code=035720&page=1&sm=title_entity_id.basic',\n",
       "  18: 'https://finance.naver.com/item/news_read.naver?article_id=0005091069&office_id=277&code=035720&page=1&sm=title_entity_id.basic'},\n",
       " 'info': {0: '이코노미스트',\n",
       "  1: '이데일리',\n",
       "  2: '파이낸셜뉴스',\n",
       "  3: '머니투데이',\n",
       "  4: '조선비즈',\n",
       "  5: '한국경제',\n",
       "  6: '헤럴드경제',\n",
       "  7: '조선비즈',\n",
       "  8: '한국경제',\n",
       "  9: '한국경제',\n",
       "  10: '이데일리',\n",
       "  11: '아시아경제',\n",
       "  12: '한국경제',\n",
       "  13: '서울경제',\n",
       "  14: '이데일리',\n",
       "  15: '이코노미스트',\n",
       "  16: '매일경제',\n",
       "  17: '머니투데이',\n",
       "  18: '아시아경제'}}"
      ]
     },
     "execution_count": 50,
     "metadata": {},
     "output_type": "execute_result"
    }
   ],
   "source": [
    "df.to_dict()"
   ]
  },
  {
   "cell_type": "markdown",
   "id": "7b73cb7d",
   "metadata": {},
   "source": [
    "# python -> mongo"
   ]
  },
  {
   "cell_type": "code",
   "execution_count": 51,
   "id": "a65b7bd6",
   "metadata": {},
   "outputs": [],
   "source": [
    "temp = df.to_dict()\n",
    "for i in range(len(df)):\n",
    "    mycol.insert_one({'date':temp['date'][i],'title':temp['title'][i]\n",
    "                     ,'url':temp['url'][i],'info':temp['info'][i]})"
   ]
  },
  {
   "cell_type": "markdown",
   "id": "9229591c",
   "metadata": {},
   "source": [
    "# mongo -> python"
   ]
  },
  {
   "cell_type": "code",
   "execution_count": 54,
   "id": "f21da8c1",
   "metadata": {},
   "outputs": [],
   "source": [
    "db = my_client['final_project']"
   ]
  },
  {
   "cell_type": "code",
   "execution_count": 57,
   "id": "e71967b9",
   "metadata": {},
   "outputs": [
    {
     "data": {
      "text/html": [
       "<div>\n",
       "<style scoped>\n",
       "    .dataframe tbody tr th:only-of-type {\n",
       "        vertical-align: middle;\n",
       "    }\n",
       "\n",
       "    .dataframe tbody tr th {\n",
       "        vertical-align: top;\n",
       "    }\n",
       "\n",
       "    .dataframe thead th {\n",
       "        text-align: right;\n",
       "    }\n",
       "</style>\n",
       "<table border=\"1\" class=\"dataframe\">\n",
       "  <thead>\n",
       "    <tr style=\"text-align: right;\">\n",
       "      <th></th>\n",
       "      <th>date</th>\n",
       "      <th>title</th>\n",
       "      <th>url</th>\n",
       "      <th>info</th>\n",
       "    </tr>\n",
       "  </thead>\n",
       "  <tbody>\n",
       "    <tr>\n",
       "      <th>0</th>\n",
       "      <td>2022-05-19</td>\n",
       "      <td>“앱 삭제” 구글 압박에…카카오, 웹툰 사용료 인상</td>\n",
       "      <td>https://finance.naver.com/item/news_read.naver...</td>\n",
       "      <td>이코노미스트</td>\n",
       "    </tr>\n",
       "    <tr>\n",
       "      <th>1</th>\n",
       "      <td>2022-05-19</td>\n",
       "      <td>네이버·카카오 나란히 52주 최저가…동반 급락</td>\n",
       "      <td>https://finance.naver.com/item/news_read.naver...</td>\n",
       "      <td>이데일리</td>\n",
       "    </tr>\n",
       "    <tr>\n",
       "      <th>2</th>\n",
       "      <td>2022-05-19</td>\n",
       "      <td>나스닥 급락에...네이버·카카오, 또 신저가 경신</td>\n",
       "      <td>https://finance.naver.com/item/news_read.naver...</td>\n",
       "      <td>파이낸셜뉴스</td>\n",
       "    </tr>\n",
       "    <tr>\n",
       "      <th>3</th>\n",
       "      <td>2022-05-19</td>\n",
       "      <td>美 나스닥 급락에 네이버·카카오 '동반 신저가'…3% 넘게 '추락'</td>\n",
       "      <td>https://finance.naver.com/item/news_read.naver...</td>\n",
       "      <td>머니투데이</td>\n",
       "    </tr>\n",
       "    <tr>\n",
       "      <th>4</th>\n",
       "      <td>2022-05-19</td>\n",
       "      <td>[특징주] 네이버·카카오, 美 나스닥 급락에 ‘휘청’…장 초반 동반 ...</td>\n",
       "      <td>https://finance.naver.com/item/news_read.naver...</td>\n",
       "      <td>조선비즈</td>\n",
       "    </tr>\n",
       "    <tr>\n",
       "      <th>5</th>\n",
       "      <td>2022-05-19</td>\n",
       "      <td>나스닥 폭락…카카오·네이버 52주 최저가로 추락</td>\n",
       "      <td>https://finance.naver.com/item/news_read.naver...</td>\n",
       "      <td>한국경제</td>\n",
       "    </tr>\n",
       "    <tr>\n",
       "      <th>6</th>\n",
       "      <td>2022-05-19</td>\n",
       "      <td>[특징주] 네이버·카카오, 장중 52주 신저가 동반 경신</td>\n",
       "      <td>https://finance.naver.com/item/news_read.naver...</td>\n",
       "      <td>헤럴드경제</td>\n",
       "    </tr>\n",
       "    <tr>\n",
       "      <th>7</th>\n",
       "      <td>2022-05-19</td>\n",
       "      <td>네이버·카카오 ‘빅테크’, 간편결제 수수료율 공시 추진</td>\n",
       "      <td>https://finance.naver.com/item/news_read.naver...</td>\n",
       "      <td>조선비즈</td>\n",
       "    </tr>\n",
       "    <tr>\n",
       "      <th>8</th>\n",
       "      <td>2022-05-19</td>\n",
       "      <td>\"1년에 두 번씩\" 카카오·네이버페이도 수수료율 공시한다</td>\n",
       "      <td>https://finance.naver.com/item/news_read.naver...</td>\n",
       "      <td>한국경제</td>\n",
       "    </tr>\n",
       "    <tr>\n",
       "      <th>9</th>\n",
       "      <td>2022-05-19</td>\n",
       "      <td>네이버·카카오 동반 추락…52주 최저가 경신</td>\n",
       "      <td>https://finance.naver.com/item/news_read.naver...</td>\n",
       "      <td>한국경제</td>\n",
       "    </tr>\n",
       "    <tr>\n",
       "      <th>10</th>\n",
       "      <td>2022-05-19</td>\n",
       "      <td>카카오엔터, ‘타파스-래디쉬’ 결합해 북미 시장 1위 노린다</td>\n",
       "      <td>https://finance.naver.com/item/news_read.naver...</td>\n",
       "      <td>이데일리</td>\n",
       "    </tr>\n",
       "    <tr>\n",
       "      <th>11</th>\n",
       "      <td>2022-05-19</td>\n",
       "      <td>카카오 종속사 래디쉬 미디어, 타파스 미디어 흡수합병</td>\n",
       "      <td>https://finance.naver.com/item/news_read.naver...</td>\n",
       "      <td>아시아경제</td>\n",
       "    </tr>\n",
       "    <tr>\n",
       "      <th>12</th>\n",
       "      <td>2022-05-19</td>\n",
       "      <td>카카오엔터 \"래디쉬, 타파스 흡수합병\" [주목 e공시]</td>\n",
       "      <td>https://finance.naver.com/item/news_read.naver...</td>\n",
       "      <td>한국경제</td>\n",
       "    </tr>\n",
       "    <tr>\n",
       "      <th>13</th>\n",
       "      <td>2022-05-19</td>\n",
       "      <td>카카오 북미 웹툰·웹소설 1등 노린다…타파스·래디쉬 합병</td>\n",
       "      <td>https://finance.naver.com/item/news_read.naver...</td>\n",
       "      <td>서울경제</td>\n",
       "    </tr>\n",
       "    <tr>\n",
       "      <th>14</th>\n",
       "      <td>2022-05-19</td>\n",
       "      <td>카카오엔터 \"래디쉬 미디어, 타파스 미디어 흡수합병\"</td>\n",
       "      <td>https://finance.naver.com/item/news_read.naver...</td>\n",
       "      <td>이데일리</td>\n",
       "    </tr>\n",
       "    <tr>\n",
       "      <th>15</th>\n",
       "      <td>2022-05-19</td>\n",
       "      <td>네이버·카카오 동반 신저가, 시총 1조원씩 증발 [증시이슈]</td>\n",
       "      <td>https://finance.naver.com/item/news_read.naver...</td>\n",
       "      <td>이코노미스트</td>\n",
       "    </tr>\n",
       "    <tr>\n",
       "      <th>16</th>\n",
       "      <td>2022-05-19</td>\n",
       "      <td>\"30억 요청했는데 100억 냈다\"…카카오 김범수 '통큰 결단', 사재...</td>\n",
       "      <td>https://finance.naver.com/item/news_read.naver...</td>\n",
       "      <td>매일경제</td>\n",
       "    </tr>\n",
       "    <tr>\n",
       "      <th>17</th>\n",
       "      <td>2022-05-19</td>\n",
       "      <td>\"30억 요청하니 사재 100억을\"..카카오 김범수, 중증장애인 지원</td>\n",
       "      <td>https://finance.naver.com/item/news_read.naver...</td>\n",
       "      <td>머니투데이</td>\n",
       "    </tr>\n",
       "    <tr>\n",
       "      <th>18</th>\n",
       "      <td>2022-05-19</td>\n",
       "      <td>[특징주]'성장주 투심 냉각'에 체면 구긴 네이버·카카오…52주 신저가</td>\n",
       "      <td>https://finance.naver.com/item/news_read.naver...</td>\n",
       "      <td>아시아경제</td>\n",
       "    </tr>\n",
       "  </tbody>\n",
       "</table>\n",
       "</div>"
      ],
      "text/plain": [
       "          date                                       title  \\\n",
       "0   2022-05-19                “앱 삭제” 구글 압박에…카카오, 웹툰 사용료 인상   \n",
       "1   2022-05-19                   네이버·카카오 나란히 52주 최저가…동반 급락   \n",
       "2   2022-05-19                 나스닥 급락에...네이버·카카오, 또 신저가 경신   \n",
       "3   2022-05-19       美 나스닥 급락에 네이버·카카오 '동반 신저가'…3% 넘게 '추락'   \n",
       "4   2022-05-19   [특징주] 네이버·카카오, 美 나스닥 급락에 ‘휘청’…장 초반 동반 ...   \n",
       "5   2022-05-19                  나스닥 폭락…카카오·네이버 52주 최저가로 추락   \n",
       "6   2022-05-19             [특징주] 네이버·카카오, 장중 52주 신저가 동반 경신   \n",
       "7   2022-05-19              네이버·카카오 ‘빅테크’, 간편결제 수수료율 공시 추진   \n",
       "8   2022-05-19             \"1년에 두 번씩\" 카카오·네이버페이도 수수료율 공시한다   \n",
       "9   2022-05-19                    네이버·카카오 동반 추락…52주 최저가 경신   \n",
       "10  2022-05-19           카카오엔터, ‘타파스-래디쉬’ 결합해 북미 시장 1위 노린다   \n",
       "11  2022-05-19               카카오 종속사 래디쉬 미디어, 타파스 미디어 흡수합병   \n",
       "12  2022-05-19              카카오엔터 \"래디쉬, 타파스 흡수합병\" [주목 e공시]   \n",
       "13  2022-05-19             카카오 북미 웹툰·웹소설 1등 노린다…타파스·래디쉬 합병   \n",
       "14  2022-05-19               카카오엔터 \"래디쉬 미디어, 타파스 미디어 흡수합병\"   \n",
       "15  2022-05-19           네이버·카카오 동반 신저가, 시총 1조원씩 증발 [증시이슈]   \n",
       "16  2022-05-19  \"30억 요청했는데 100억 냈다\"…카카오 김범수 '통큰 결단', 사재...   \n",
       "17  2022-05-19      \"30억 요청하니 사재 100억을\"..카카오 김범수, 중증장애인 지원   \n",
       "18  2022-05-19     [특징주]'성장주 투심 냉각'에 체면 구긴 네이버·카카오…52주 신저가   \n",
       "\n",
       "                                                  url    info  \n",
       "0   https://finance.naver.com/item/news_read.naver...  이코노미스트  \n",
       "1   https://finance.naver.com/item/news_read.naver...    이데일리  \n",
       "2   https://finance.naver.com/item/news_read.naver...  파이낸셜뉴스  \n",
       "3   https://finance.naver.com/item/news_read.naver...   머니투데이  \n",
       "4   https://finance.naver.com/item/news_read.naver...    조선비즈  \n",
       "5   https://finance.naver.com/item/news_read.naver...    한국경제  \n",
       "6   https://finance.naver.com/item/news_read.naver...   헤럴드경제  \n",
       "7   https://finance.naver.com/item/news_read.naver...    조선비즈  \n",
       "8   https://finance.naver.com/item/news_read.naver...    한국경제  \n",
       "9   https://finance.naver.com/item/news_read.naver...    한국경제  \n",
       "10  https://finance.naver.com/item/news_read.naver...    이데일리  \n",
       "11  https://finance.naver.com/item/news_read.naver...   아시아경제  \n",
       "12  https://finance.naver.com/item/news_read.naver...    한국경제  \n",
       "13  https://finance.naver.com/item/news_read.naver...    서울경제  \n",
       "14  https://finance.naver.com/item/news_read.naver...    이데일리  \n",
       "15  https://finance.naver.com/item/news_read.naver...  이코노미스트  \n",
       "16  https://finance.naver.com/item/news_read.naver...    매일경제  \n",
       "17  https://finance.naver.com/item/news_read.naver...   머니투데이  \n",
       "18  https://finance.naver.com/item/news_read.naver...   아시아경제  "
      ]
     },
     "execution_count": 57,
     "metadata": {},
     "output_type": "execute_result"
    }
   ],
   "source": [
    "pd.DataFrame(db.article_url.find()).drop('_id',axis=1)"
   ]
  }
 ],
 "metadata": {
  "kernelspec": {
   "display_name": "Python 3 (ipykernel)",
   "language": "python",
   "name": "python3"
  },
  "language_info": {
   "codemirror_mode": {
    "name": "ipython",
    "version": 3
   },
   "file_extension": ".py",
   "mimetype": "text/x-python",
   "name": "python",
   "nbconvert_exporter": "python",
   "pygments_lexer": "ipython3",
   "version": "3.8.6"
  }
 },
 "nbformat": 4,
 "nbformat_minor": 5
}

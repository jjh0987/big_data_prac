{
 "cells": [
  {
   "cell_type": "markdown",
   "id": "527a5582",
   "metadata": {},
   "source": [
    "# Read and Write example"
   ]
  },
  {
   "cell_type": "code",
   "execution_count": 1,
   "id": "ca6c5f7a",
   "metadata": {},
   "outputs": [],
   "source": [
    "from pymongo import MongoClient\n",
    "import pandas as pd\n"
   ]
  },
  {
   "cell_type": "code",
   "execution_count": 2,
   "id": "e5a3acb0",
   "metadata": {},
   "outputs": [],
   "source": [
    "my_client = MongoClient('mongodb://localhost:27017')"
   ]
  },
  {
   "cell_type": "code",
   "execution_count": 3,
   "id": "aa534cde",
   "metadata": {},
   "outputs": [
    {
     "name": "stdout",
     "output_type": "stream",
     "text": [
      "['admin', 'config', 'final_project', 'local', 'test']\n"
     ]
    }
   ],
   "source": [
    "print(my_client.list_database_names())"
   ]
  },
  {
   "cell_type": "code",
   "execution_count": 4,
   "id": "543dc7ab",
   "metadata": {},
   "outputs": [],
   "source": [
    "mydb = my_client['test']\n",
    "mycol = mydb['hi']"
   ]
  },
  {
   "cell_type": "code",
   "execution_count": 5,
   "id": "c9d5737b",
   "metadata": {},
   "outputs": [],
   "source": [
    "x = mycol.insert_one({'name':'SOM','address':'busan'})"
   ]
  },
  {
   "cell_type": "code",
   "execution_count": 6,
   "id": "5b6dd357",
   "metadata": {},
   "outputs": [
    {
     "data": {
      "text/plain": [
       "ObjectId('62874a0f3f641c6c65810a05')"
      ]
     },
     "execution_count": 6,
     "metadata": {},
     "output_type": "execute_result"
    }
   ],
   "source": [
    "x.inserted_id"
   ]
  },
  {
   "cell_type": "markdown",
   "id": "2ca6dfcb",
   "metadata": {},
   "source": [
    "# craw"
   ]
  },
  {
   "cell_type": "code",
   "execution_count": 7,
   "id": "036bc53a",
   "metadata": {},
   "outputs": [],
   "source": [
    "import requests\n",
    "import bs4\n",
    "from datetime import datetime,timedelta\n",
    "\n",
    "company = '카카오'\n",
    "\n",
    "date_list = []\n",
    "title_list = []\n",
    "info_list = []\n",
    "url_list = []\n",
    "\n",
    "if company == '카카오':\n",
    "    code = '035720' # kakao\n",
    "else:\n",
    "    code = '035420' # naver\n",
    "page = 1\n",
    "\n",
    "headers = {\n",
    "    'User-Agent': 'Mozilla/5.0 (Windows NT 10.0; Win64; x64) AppleWebKit/537.36 (KHTML, like Gecko) Chrome/101.0.4951.64 Safari/537.36 Edg/101.0.1210.32'}\n",
    "\n",
    "url = f'https://finance.naver.com/item/news_news.naver?code={code}&page={page}&sm=title_entity_id.basic&clusterId='\n",
    "res = requests.get(url, headers=headers)\n",
    "bs = bs4.BeautifulSoup(res.text, 'html.parser')\n",
    "\n",
    "while datetime.strftime(datetime.now().date(), '%Y-%m-%d') not in date_list:\n",
    "    url = f'https://finance.naver.com/item/news_news.naver?code={code}&page={page}&sm=title_entity_id.basic&clusterId='\n",
    "    res = requests.get(url, headers=headers)\n",
    "    bs = bs4.BeautifulSoup(res.text, 'html.parser')\n",
    "\n",
    "    date_list.extend([i.text.split()[0].replace('.', '-') for i in bs.find_all('td', {'class': 'date'})])\n",
    "    title_list.extend([i.text.replace('\\n', '') for i in bs.find_all('td', {'class': 'title'})])\n",
    "    info_list.extend([i.text for i in bs.find_all('td', {'class': 'info'})])\n",
    "    url_list.extend(\n",
    "        ['https://finance.naver.com' + i.find('a')['href'] for i in bs.find_all('td', {'class': 'title'})])\n",
    "\n",
    "    page += 1\n"
   ]
  },
  {
   "cell_type": "code",
   "execution_count": 8,
   "id": "bfd09112",
   "metadata": {
    "scrolled": true
   },
   "outputs": [
    {
     "data": {
      "text/plain": [
       "['https://finance.naver.com/item/news_read.naver?article_id=0004839530&office_id=014&code=035720&page=1&sm=title_entity_id.basic',\n",
       " 'https://finance.naver.com/item/news_read.naver?article_id=0000815188&office_id=366&code=035720&page=1&sm=title_entity_id.basic',\n",
       " 'https://finance.naver.com/item/news_read.naver?article_id=0004056034&office_id=011&code=035720&page=1&sm=title_entity_id.basic',\n",
       " 'https://finance.naver.com/item/news_read.naver?article_id=0004839365&office_id=014&code=035720&page=1&sm=title_entity_id.basic',\n",
       " 'https://finance.naver.com/item/news_read.naver?article_id=0004839334&office_id=014&code=035720&page=1&sm=title_entity_id.basic',\n",
       " 'https://finance.naver.com/item/news_read.naver?article_id=0005220910&office_id=018&code=035720&page=1&sm=title_entity_id.basic',\n",
       " 'https://finance.naver.com/item/news_read.naver?article_id=0004748416&office_id=008&code=035720&page=1&sm=title_entity_id.basic',\n",
       " 'https://finance.naver.com/item/news_read.naver?article_id=0004966395&office_id=009&code=035720&page=1&sm=title_entity_id.basic',\n",
       " 'https://finance.naver.com/item/news_read.naver?article_id=0005220450&office_id=018&code=035720&page=1&sm=title_entity_id.basic',\n",
       " 'https://finance.naver.com/item/news_read.naver?article_id=0004838872&office_id=014&code=035720&page=1&sm=title_entity_id.basic',\n",
       " 'https://finance.naver.com/item/news_read.naver?article_id=0001992659&office_id=016&code=035720&page=1&sm=title_entity_id.basic',\n",
       " 'https://finance.naver.com/item/news_read.naver?article_id=0004839153&office_id=014&code=035720&page=1&sm=title_entity_id.basic',\n",
       " 'https://finance.naver.com/item/news_read.naver?article_id=0004055765&office_id=011&code=035720&page=1&sm=title_entity_id.basic',\n",
       " 'https://finance.naver.com/item/news_read.naver?article_id=0005219976&office_id=018&code=035720&page=1&sm=title_entity_id.basic',\n",
       " 'https://finance.naver.com/item/news_read.naver?article_id=0004701171&office_id=015&code=035720&page=1&sm=title_entity_id.basic',\n",
       " 'https://finance.naver.com/item/news_read.naver?article_id=0004701030&office_id=015&code=035720&page=1&sm=title_entity_id.basic',\n",
       " 'https://finance.naver.com/item/news_read.naver?article_id=0004966335&office_id=009&code=035720&page=1&sm=title_entity_id.basic',\n",
       " 'https://finance.naver.com/item/news_read.naver?article_id=0000008055&office_id=648&code=035720&page=1&sm=title_entity_id.basic',\n",
       " 'https://finance.naver.com/item/news_read.naver?article_id=0000814944&office_id=366&code=035720&page=1&sm=title_entity_id.basic']"
      ]
     },
     "execution_count": 8,
     "metadata": {},
     "output_type": "execute_result"
    }
   ],
   "source": [
    "url_list"
   ]
  },
  {
   "cell_type": "code",
   "execution_count": 9,
   "id": "c2c27e5c",
   "metadata": {},
   "outputs": [],
   "source": [
    "mydb = my_client['final_project']\n",
    "mycol = mydb['article_url']"
   ]
  },
  {
   "cell_type": "code",
   "execution_count": 10,
   "id": "fb0f960a",
   "metadata": {},
   "outputs": [],
   "source": [
    "df = pd.DataFrame([date_list,title_list,url_list,info_list]).transpose()\n",
    "df.rename({0:'date',1:'title',2:'url',3:'info'},axis=1,inplace=True)"
   ]
  },
  {
   "cell_type": "code",
   "execution_count": 11,
   "id": "c14d551c",
   "metadata": {},
   "outputs": [
    {
     "data": {
      "text/plain": [
       "{'date': {0: '2022-05-20',\n",
       "  1: '2022-05-20',\n",
       "  2: '2022-05-20',\n",
       "  3: '2022-05-20',\n",
       "  4: '2022-05-20',\n",
       "  5: '2022-05-20',\n",
       "  6: '2022-05-20',\n",
       "  7: '2022-05-19',\n",
       "  8: '2022-05-19',\n",
       "  9: '2022-05-19',\n",
       "  10: '2022-05-19',\n",
       "  11: '2022-05-19',\n",
       "  12: '2022-05-19',\n",
       "  13: '2022-05-19',\n",
       "  14: '2022-05-19',\n",
       "  15: '2022-05-19',\n",
       "  16: '2022-05-19',\n",
       "  17: '2022-05-19',\n",
       "  18: '2022-05-19'},\n",
       " 'title': {0: \"소공연, '카카오·티맵' 대리운전 소상공인 생존권 위협\",\n",
       "  1: '소상공인연합회 “카카오·티맵, 대리운전 업계 생존권 위협…상생해야”',\n",
       "  2: '[특징주] 코스피 시총 6위였던 카카오…한달만 9위까지 추락',\n",
       "  3: \"'토르' 웹툰으로 만난다…카카오엔터 두번째 마블 웹툰 공개\",\n",
       "  4: '카카오 \"선거정보 한눈에\"...지방선거 특집 페이지 오픈',\n",
       "  5: 'Daum, 지방선거 페이지 오픈…실명 인증해야 댓글 써요',\n",
       "  6: '\\'I의 공포\\'에 네이버·카카오 벼랑 끝…\"단기 반등 어렵다\"',\n",
       "  7: '나스닥 급락에…네이버·카카오 또 신저가 경신',\n",
       "  8: '네이버·카카오 나란히 52주 최저가…동반 급락',\n",
       "  9: '나스닥 급락에...네이버·카카오, 또 신저가 경신',\n",
       "  10: '[특징주] 네이버·카카오, 장중 52주 신저가 동반 경신',\n",
       "  11: '카카오엔터, 美 웹툰·웹소설 플랫폼 통합… 북미 1위 노린다',\n",
       "  12: \"카카오, 美서 '10만 창작자’로 웹툰·웹소설 1등 노린다\",\n",
       "  13: '카카오엔터, ‘타파스-래디쉬’ 결합해 북미 시장 1위 노린다',\n",
       "  14: '\"바닥 안보이네\"…네이버·카카오 신저가',\n",
       "  15: '네이버·카카오 동반 추락…52주 최저가 경신',\n",
       "  16: '[유가증권시장 공시] 카카오 / KG그룹 / DL건설',\n",
       "  17: '네이버·카카오 등 전자금융 결제수수료 6개월마다 공시',\n",
       "  18: '네이버·카카오 ‘빅테크’, 간편결제 수수료율 공시 추진'},\n",
       " 'url': {0: 'https://finance.naver.com/item/news_read.naver?article_id=0004839530&office_id=014&code=035720&page=1&sm=title_entity_id.basic',\n",
       "  1: 'https://finance.naver.com/item/news_read.naver?article_id=0000815188&office_id=366&code=035720&page=1&sm=title_entity_id.basic',\n",
       "  2: 'https://finance.naver.com/item/news_read.naver?article_id=0004056034&office_id=011&code=035720&page=1&sm=title_entity_id.basic',\n",
       "  3: 'https://finance.naver.com/item/news_read.naver?article_id=0004839365&office_id=014&code=035720&page=1&sm=title_entity_id.basic',\n",
       "  4: 'https://finance.naver.com/item/news_read.naver?article_id=0004839334&office_id=014&code=035720&page=1&sm=title_entity_id.basic',\n",
       "  5: 'https://finance.naver.com/item/news_read.naver?article_id=0005220910&office_id=018&code=035720&page=1&sm=title_entity_id.basic',\n",
       "  6: 'https://finance.naver.com/item/news_read.naver?article_id=0004748416&office_id=008&code=035720&page=1&sm=title_entity_id.basic',\n",
       "  7: 'https://finance.naver.com/item/news_read.naver?article_id=0004966395&office_id=009&code=035720&page=1&sm=title_entity_id.basic',\n",
       "  8: 'https://finance.naver.com/item/news_read.naver?article_id=0005220450&office_id=018&code=035720&page=1&sm=title_entity_id.basic',\n",
       "  9: 'https://finance.naver.com/item/news_read.naver?article_id=0004838872&office_id=014&code=035720&page=1&sm=title_entity_id.basic',\n",
       "  10: 'https://finance.naver.com/item/news_read.naver?article_id=0001992659&office_id=016&code=035720&page=1&sm=title_entity_id.basic',\n",
       "  11: 'https://finance.naver.com/item/news_read.naver?article_id=0004839153&office_id=014&code=035720&page=1&sm=title_entity_id.basic',\n",
       "  12: 'https://finance.naver.com/item/news_read.naver?article_id=0004055765&office_id=011&code=035720&page=1&sm=title_entity_id.basic',\n",
       "  13: 'https://finance.naver.com/item/news_read.naver?article_id=0005219976&office_id=018&code=035720&page=1&sm=title_entity_id.basic',\n",
       "  14: 'https://finance.naver.com/item/news_read.naver?article_id=0004701171&office_id=015&code=035720&page=1&sm=title_entity_id.basic',\n",
       "  15: 'https://finance.naver.com/item/news_read.naver?article_id=0004701030&office_id=015&code=035720&page=1&sm=title_entity_id.basic',\n",
       "  16: 'https://finance.naver.com/item/news_read.naver?article_id=0004966335&office_id=009&code=035720&page=1&sm=title_entity_id.basic',\n",
       "  17: 'https://finance.naver.com/item/news_read.naver?article_id=0000008055&office_id=648&code=035720&page=1&sm=title_entity_id.basic',\n",
       "  18: 'https://finance.naver.com/item/news_read.naver?article_id=0000814944&office_id=366&code=035720&page=1&sm=title_entity_id.basic'},\n",
       " 'info': {0: '파이낸셜뉴스',\n",
       "  1: '조선비즈',\n",
       "  2: '서울경제',\n",
       "  3: '파이낸셜뉴스',\n",
       "  4: '파이낸셜뉴스',\n",
       "  5: '이데일리',\n",
       "  6: '머니투데이',\n",
       "  7: '매일경제',\n",
       "  8: '이데일리',\n",
       "  9: '파이낸셜뉴스',\n",
       "  10: '헤럴드경제',\n",
       "  11: '파이낸셜뉴스',\n",
       "  12: '서울경제',\n",
       "  13: '이데일리',\n",
       "  14: '한국경제',\n",
       "  15: '한국경제',\n",
       "  16: '매일경제',\n",
       "  17: '비즈니스워치',\n",
       "  18: '조선비즈'}}"
      ]
     },
     "execution_count": 11,
     "metadata": {},
     "output_type": "execute_result"
    }
   ],
   "source": [
    "df.to_dict()"
   ]
  },
  {
   "cell_type": "markdown",
   "id": "7b73cb7d",
   "metadata": {},
   "source": [
    "# python -> mongo"
   ]
  },
  {
   "cell_type": "code",
   "execution_count": 12,
   "id": "a65b7bd6",
   "metadata": {},
   "outputs": [],
   "source": [
    "temp = df.to_dict()\n",
    "for i in range(len(df)):\n",
    "    if temp['date'][i] == datetime.strftime(datetime.now().date(), '%Y-%m-%d'):\n",
    "        mycol.insert_one({'date':temp['date'][i],'title':temp['title'][i]\n",
    "                         ,'url':temp['url'][i],'info':temp['info'][i]})"
   ]
  },
  {
   "cell_type": "markdown",
   "id": "9229591c",
   "metadata": {},
   "source": [
    "# mongo -> python"
   ]
  },
  {
   "cell_type": "code",
   "execution_count": 13,
   "id": "f21da8c1",
   "metadata": {},
   "outputs": [],
   "source": [
    "db = my_client['final_project']"
   ]
  },
  {
   "cell_type": "code",
   "execution_count": 14,
   "id": "de226d83",
   "metadata": {},
   "outputs": [],
   "source": [
    "#db.article_url.delete_many({})"
   ]
  },
  {
   "cell_type": "code",
   "execution_count": 15,
   "id": "e71967b9",
   "metadata": {},
   "outputs": [
    {
     "data": {
      "text/html": [
       "<div>\n",
       "<style scoped>\n",
       "    .dataframe tbody tr th:only-of-type {\n",
       "        vertical-align: middle;\n",
       "    }\n",
       "\n",
       "    .dataframe tbody tr th {\n",
       "        vertical-align: top;\n",
       "    }\n",
       "\n",
       "    .dataframe thead th {\n",
       "        text-align: right;\n",
       "    }\n",
       "</style>\n",
       "<table border=\"1\" class=\"dataframe\">\n",
       "  <thead>\n",
       "    <tr style=\"text-align: right;\">\n",
       "      <th></th>\n",
       "      <th>date</th>\n",
       "      <th>title</th>\n",
       "      <th>url</th>\n",
       "      <th>info</th>\n",
       "    </tr>\n",
       "  </thead>\n",
       "  <tbody>\n",
       "    <tr>\n",
       "      <th>0</th>\n",
       "      <td>2022-05-20</td>\n",
       "      <td>소공연, '카카오·티맵' 대리운전 소상공인 생존권 위협</td>\n",
       "      <td>https://finance.naver.com/item/news_read.naver...</td>\n",
       "      <td>파이낸셜뉴스</td>\n",
       "    </tr>\n",
       "    <tr>\n",
       "      <th>1</th>\n",
       "      <td>2022-05-20</td>\n",
       "      <td>소상공인연합회 “카카오·티맵, 대리운전 업계 생존권 위협…상생해야”</td>\n",
       "      <td>https://finance.naver.com/item/news_read.naver...</td>\n",
       "      <td>조선비즈</td>\n",
       "    </tr>\n",
       "    <tr>\n",
       "      <th>2</th>\n",
       "      <td>2022-05-20</td>\n",
       "      <td>[특징주] 코스피 시총 6위였던 카카오…한달만 9위까지 추락</td>\n",
       "      <td>https://finance.naver.com/item/news_read.naver...</td>\n",
       "      <td>서울경제</td>\n",
       "    </tr>\n",
       "    <tr>\n",
       "      <th>3</th>\n",
       "      <td>2022-05-20</td>\n",
       "      <td>'토르' 웹툰으로 만난다…카카오엔터 두번째 마블 웹툰 공개</td>\n",
       "      <td>https://finance.naver.com/item/news_read.naver...</td>\n",
       "      <td>파이낸셜뉴스</td>\n",
       "    </tr>\n",
       "    <tr>\n",
       "      <th>4</th>\n",
       "      <td>2022-05-20</td>\n",
       "      <td>카카오 \"선거정보 한눈에\"...지방선거 특집 페이지 오픈</td>\n",
       "      <td>https://finance.naver.com/item/news_read.naver...</td>\n",
       "      <td>파이낸셜뉴스</td>\n",
       "    </tr>\n",
       "    <tr>\n",
       "      <th>5</th>\n",
       "      <td>2022-05-20</td>\n",
       "      <td>Daum, 지방선거 페이지 오픈…실명 인증해야 댓글 써요</td>\n",
       "      <td>https://finance.naver.com/item/news_read.naver...</td>\n",
       "      <td>이데일리</td>\n",
       "    </tr>\n",
       "    <tr>\n",
       "      <th>6</th>\n",
       "      <td>2022-05-20</td>\n",
       "      <td>'I의 공포'에 네이버·카카오 벼랑 끝…\"단기 반등 어렵다\"</td>\n",
       "      <td>https://finance.naver.com/item/news_read.naver...</td>\n",
       "      <td>머니투데이</td>\n",
       "    </tr>\n",
       "  </tbody>\n",
       "</table>\n",
       "</div>"
      ],
      "text/plain": [
       "         date                                  title  \\\n",
       "0  2022-05-20         소공연, '카카오·티맵' 대리운전 소상공인 생존권 위협   \n",
       "1  2022-05-20  소상공인연합회 “카카오·티맵, 대리운전 업계 생존권 위협…상생해야”   \n",
       "2  2022-05-20      [특징주] 코스피 시총 6위였던 카카오…한달만 9위까지 추락   \n",
       "3  2022-05-20       '토르' 웹툰으로 만난다…카카오엔터 두번째 마블 웹툰 공개   \n",
       "4  2022-05-20        카카오 \"선거정보 한눈에\"...지방선거 특집 페이지 오픈   \n",
       "5  2022-05-20        Daum, 지방선거 페이지 오픈…실명 인증해야 댓글 써요   \n",
       "6  2022-05-20      'I의 공포'에 네이버·카카오 벼랑 끝…\"단기 반등 어렵다\"   \n",
       "\n",
       "                                                 url    info  \n",
       "0  https://finance.naver.com/item/news_read.naver...  파이낸셜뉴스  \n",
       "1  https://finance.naver.com/item/news_read.naver...    조선비즈  \n",
       "2  https://finance.naver.com/item/news_read.naver...    서울경제  \n",
       "3  https://finance.naver.com/item/news_read.naver...  파이낸셜뉴스  \n",
       "4  https://finance.naver.com/item/news_read.naver...  파이낸셜뉴스  \n",
       "5  https://finance.naver.com/item/news_read.naver...    이데일리  \n",
       "6  https://finance.naver.com/item/news_read.naver...   머니투데이  "
      ]
     },
     "execution_count": 15,
     "metadata": {},
     "output_type": "execute_result"
    }
   ],
   "source": [
    "pd.DataFrame(db.article_url.find()).drop('_id',axis=1)"
   ]
  }
 ],
 "metadata": {
  "kernelspec": {
   "display_name": "Python 3 (ipykernel)",
   "language": "python",
   "name": "python3"
  },
  "language_info": {
   "codemirror_mode": {
    "name": "ipython",
    "version": 3
   },
   "file_extension": ".py",
   "mimetype": "text/x-python",
   "name": "python",
   "nbconvert_exporter": "python",
   "pygments_lexer": "ipython3",
   "version": "3.8.6"
  }
 },
 "nbformat": 4,
 "nbformat_minor": 5
}
